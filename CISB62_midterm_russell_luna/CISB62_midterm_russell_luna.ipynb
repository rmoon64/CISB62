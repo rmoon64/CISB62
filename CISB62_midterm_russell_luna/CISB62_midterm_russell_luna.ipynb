{
 "cells": [
  {
   "cell_type": "markdown",
   "id": "3b7ff88d",
   "metadata": {},
   "source": [
    "<div style=\"text-align:left\">\n",
    "\n",
    "## Iris classification\n",
    "\n",
    "#### Mt. SAC CISB 62 Midterm Project - Fall 2023\n",
    "\n",
    "#### Russell Luna\n",
    "    \n",
    "</div>"
   ]
  },
  {
   "cell_type": "markdown",
   "id": "8bd5fef7",
   "metadata": {},
   "source": [
    "<div style=\"text-align:left\">\n",
    "\n",
    "## Explanation of the Iris classification project:\n",
    "\n",
    "#### The Iris classification dataset is a classic dataset that will help us predict the species of iris flowers based on their various measurements. It utilizes the load_iris function from sklearn.\n",
    "#### The Iris dataset consists of 150 entries of iris flowers, with each sample having four features: sepal length, sepal width, petal length, and petal width. The flowers in the dataset belong to three different species: setosa, versicolor, and virginica. The goal of the project is to train a ANN model to accurately classify iris flowers into one of these three species based on their measurements.\n",
    "\n",
    "</div>"
   ]
  },
  {
   "cell_type": "code",
   "execution_count": 1,
   "id": "0a0847fb",
   "metadata": {},
   "outputs": [
    {
     "name": "stdout",
     "output_type": "stream",
     "text": [
      "Using TensorFlow backend\n"
     ]
    }
   ],
   "source": [
    "from sklearn import datasets\n",
    "import pandas as pd\n",
    "import numpy as np\n",
    "import matplotlib.pyplot as plt\n",
    "\n",
    "import seaborn as sns\n",
    "%matplotlib inline\n",
    "\n",
    "import warnings\n",
    "warnings.filterwarnings('ignore')\n",
    "\n",
    "import keras\n",
    "from sklearn.datasets import load_iris\n",
    "from sklearn.model_selection import GridSearchCV\n",
    "from keras.datasets import mnist\n",
    "from keras.models import Sequential\n",
    "from keras.layers import Dense, Dropout \n",
    "from keras import backend as K  # \n",
    "\n",
    "from scikeras.wrappers import KerasClassifier\n",
    "import tensorflow as tf\n",
    "from tensorflow.keras.optimizers import Adam\n",
    "from tensorflow.keras.optimizers import SGD\n",
    "from sklearn.metrics import confusion_matrix\n",
    "import os\n",
    "\n",
    "from collections import Counter\n",
    "from sklearn.metrics import confusion_matrix\n",
    "import itertools\n",
    "\n",
    "from keras_tuner.tuners import RandomSearch\n",
    "from keras_tuner.engine.hyperparameters import HyperParameters\n",
    "from keras.layers import Flatten, Dropout"
   ]
  },
  {
   "cell_type": "markdown",
   "id": "b943f1cd",
   "metadata": {},
   "source": [
    "### Exploratory Data Analysis (EDA)"
   ]
  },
  {
   "cell_type": "code",
   "execution_count": 2,
   "id": "eb144a7c",
   "metadata": {},
   "outputs": [],
   "source": [
    "#load iris dataset\n",
    "data = load_iris()"
   ]
  },
  {
   "cell_type": "markdown",
   "id": "19277123",
   "metadata": {},
   "source": [
    "### print the keys"
   ]
  },
  {
   "cell_type": "code",
   "execution_count": 3,
   "id": "df5a848b",
   "metadata": {},
   "outputs": [
    {
     "name": "stdout",
     "output_type": "stream",
     "text": [
      "dict_keys(['data', 'target', 'frame', 'target_names', 'DESCR', 'feature_names', 'filename', 'data_module'])\n"
     ]
    }
   ],
   "source": [
    "print(data.keys())"
   ]
  },
  {
   "cell_type": "markdown",
   "id": "f5a5e433",
   "metadata": {},
   "source": [
    "### Display some information about the project"
   ]
  },
  {
   "cell_type": "code",
   "execution_count": 4,
   "id": "53c80746",
   "metadata": {
    "scrolled": true
   },
   "outputs": [
    {
     "name": "stdout",
     "output_type": "stream",
     "text": [
      ".. _iris_dataset:\n",
      "\n",
      "Iris plants dataset\n",
      "--------------------\n",
      "\n",
      "**Data Set Characteristics:**\n",
      "\n",
      "    :Number of Instances: 150 (50 in each of three classes)\n",
      "    :Number of Attributes: 4 numeric, predictive attributes and the class\n",
      "    :Attribute Information:\n",
      "        - sepal length in cm\n",
      "        - sepal width in cm\n",
      "        - petal length in cm\n",
      "        - petal width in cm\n",
      "        - class:\n",
      "                - Iris-Setosa\n",
      "                - Iris-Versicolour\n",
      "                - Iris-Virginica\n",
      "                \n",
      "    :Summary Statistics:\n",
      "\n",
      "    ============== ==== ==== ======= ===== ====================\n",
      "                    Min  Max   Mean    SD   Class Correlation\n",
      "    ============== ==== ==== ======= ===== ====================\n",
      "    sepal length:   4.3  7.9   5.84   0.83    0.7826\n",
      "    sepal width:    2.0  4.4   3.05   0.43   -0.4194\n",
      "    petal length:   1.0  6.9   3.76   1.76    0.9490  (high!)\n",
      "    petal width:    0.1  2.5   1.20   0.76    0.9565  (high!)\n",
      "    ============== ==== ==== ======= ===== ====================\n",
      "\n",
      "    :Missing Attribute Values: None\n",
      "    :Class Distribution: 33.3% for each of 3 classes.\n",
      "    :Creator: R.A. Fisher\n",
      "    :Donor: Michael Marshall (MARSHALL%PLU@io.arc.nasa.gov)\n",
      "    :Date: July, 1988\n",
      "\n",
      "The famous Iris database, first used by Sir R.A. Fisher. The dataset is taken\n",
      "from Fisher's paper. Note that it's the same as in R, but not as in the UCI\n",
      "Machine Learning Repository, which has two wrong data points.\n",
      "\n",
      "This is perhaps the best known database to be found in the\n",
      "pattern recognition literature.  Fisher's paper is a classic in the field and\n",
      "is referenced frequently to this day.  (See Duda & Hart, for example.)  The\n",
      "data set contains 3 classes of 50 instances each, where each class refers to a\n",
      "type of iris plant.  One class is linearly separable from the other 2; the\n",
      "latter are NOT linearly separable from each other.\n",
      "\n",
      "|details-start|\n",
      "**References**\n",
      "|details-split|\n",
      "\n",
      "- Fisher, R.A. \"The use of multiple measurements in taxonomic problems\"\n",
      "  Annual Eugenics, 7, Part II, 179-188 (1936); also in \"Contributions to\n",
      "  Mathematical Statistics\" (John Wiley, NY, 1950).\n",
      "- Duda, R.O., & Hart, P.E. (1973) Pattern Classification and Scene Analysis.\n",
      "  (Q327.D83) John Wiley & Sons.  ISBN 0-471-22361-1.  See page 218.\n",
      "- Dasarathy, B.V. (1980) \"Nosing Around the Neighborhood: A New System\n",
      "  Structure and Classification Rule for Recognition in Partially Exposed\n",
      "  Environments\".  IEEE Transactions on Pattern Analysis and Machine\n",
      "  Intelligence, Vol. PAMI-2, No. 1, 67-71.\n",
      "- Gates, G.W. (1972) \"The Reduced Nearest Neighbor Rule\".  IEEE Transactions\n",
      "  on Information Theory, May 1972, 431-433.\n",
      "- See also: 1988 MLC Proceedings, 54-64.  Cheeseman et al\"s AUTOCLASS II\n",
      "  conceptual clustering system finds 3 classes in the data.\n",
      "- Many, many more ...\n",
      "\n",
      "|details-end|\n"
     ]
    }
   ],
   "source": [
    "print(data.DESCR)"
   ]
  },
  {
   "cell_type": "code",
   "execution_count": 5,
   "id": "3c80155b",
   "metadata": {},
   "outputs": [
    {
     "data": {
      "text/html": [
       "<div>\n",
       "<style scoped>\n",
       "    .dataframe tbody tr th:only-of-type {\n",
       "        vertical-align: middle;\n",
       "    }\n",
       "\n",
       "    .dataframe tbody tr th {\n",
       "        vertical-align: top;\n",
       "    }\n",
       "\n",
       "    .dataframe thead th {\n",
       "        text-align: right;\n",
       "    }\n",
       "</style>\n",
       "<table border=\"1\" class=\"dataframe\">\n",
       "  <thead>\n",
       "    <tr style=\"text-align: right;\">\n",
       "      <th></th>\n",
       "      <th>sepal length (cm)</th>\n",
       "      <th>sepal width (cm)</th>\n",
       "      <th>petal length (cm)</th>\n",
       "      <th>petal width (cm)</th>\n",
       "      <th>target</th>\n",
       "    </tr>\n",
       "  </thead>\n",
       "  <tbody>\n",
       "    <tr>\n",
       "      <th>0</th>\n",
       "      <td>5.1</td>\n",
       "      <td>3.5</td>\n",
       "      <td>1.4</td>\n",
       "      <td>0.2</td>\n",
       "      <td>0</td>\n",
       "    </tr>\n",
       "    <tr>\n",
       "      <th>1</th>\n",
       "      <td>4.9</td>\n",
       "      <td>3.0</td>\n",
       "      <td>1.4</td>\n",
       "      <td>0.2</td>\n",
       "      <td>0</td>\n",
       "    </tr>\n",
       "    <tr>\n",
       "      <th>2</th>\n",
       "      <td>4.7</td>\n",
       "      <td>3.2</td>\n",
       "      <td>1.3</td>\n",
       "      <td>0.2</td>\n",
       "      <td>0</td>\n",
       "    </tr>\n",
       "    <tr>\n",
       "      <th>3</th>\n",
       "      <td>4.6</td>\n",
       "      <td>3.1</td>\n",
       "      <td>1.5</td>\n",
       "      <td>0.2</td>\n",
       "      <td>0</td>\n",
       "    </tr>\n",
       "    <tr>\n",
       "      <th>4</th>\n",
       "      <td>5.0</td>\n",
       "      <td>3.6</td>\n",
       "      <td>1.4</td>\n",
       "      <td>0.2</td>\n",
       "      <td>0</td>\n",
       "    </tr>\n",
       "  </tbody>\n",
       "</table>\n",
       "</div>"
      ],
      "text/plain": [
       "   sepal length (cm)  sepal width (cm)  petal length (cm)  petal width (cm)  \\\n",
       "0                5.1               3.5                1.4               0.2   \n",
       "1                4.9               3.0                1.4               0.2   \n",
       "2                4.7               3.2                1.3               0.2   \n",
       "3                4.6               3.1                1.5               0.2   \n",
       "4                5.0               3.6                1.4               0.2   \n",
       "\n",
       "   target  \n",
       "0       0  \n",
       "1       0  \n",
       "2       0  \n",
       "3       0  \n",
       "4       0  "
      ]
     },
     "execution_count": 5,
     "metadata": {},
     "output_type": "execute_result"
    }
   ],
   "source": [
    "#Read the DataFrame, first using the feature data\n",
    "df = pd.DataFrame(data.data, columns=data.feature_names)\n",
    "\n",
    "#Add a target column, and fill it with the target data\n",
    "df['target'] = data.target\n",
    "#Show the first five rows\n",
    "df.head()"
   ]
  },
  {
   "cell_type": "markdown",
   "id": "c0b6cecc",
   "metadata": {},
   "source": [
    "### info"
   ]
  },
  {
   "cell_type": "code",
   "execution_count": 6,
   "id": "0d685e0d",
   "metadata": {},
   "outputs": [
    {
     "name": "stdout",
     "output_type": "stream",
     "text": [
      "<class 'pandas.core.frame.DataFrame'>\n",
      "RangeIndex: 150 entries, 0 to 149\n",
      "Data columns (total 5 columns):\n",
      " #   Column             Non-Null Count  Dtype  \n",
      "---  ------             --------------  -----  \n",
      " 0   sepal length (cm)  150 non-null    float64\n",
      " 1   sepal width (cm)   150 non-null    float64\n",
      " 2   petal length (cm)  150 non-null    float64\n",
      " 3   petal width (cm)   150 non-null    float64\n",
      " 4   target             150 non-null    int32  \n",
      "dtypes: float64(4), int32(1)\n",
      "memory usage: 5.4 KB\n"
     ]
    }
   ],
   "source": [
    "df.info()"
   ]
  },
  {
   "cell_type": "code",
   "execution_count": 7,
   "id": "c19ad417",
   "metadata": {},
   "outputs": [],
   "source": [
    "#Create the variables X, y.\n",
    "#For X, assign the values from the dataset, except the first and last columns.\n",
    "#For Y, assign the class value (the value in the last column)\n",
    "\n",
    "X= df.iloc[:, 1:-1].values\n",
    "y= df.iloc[:, -1].values"
   ]
  },
  {
   "cell_type": "code",
   "execution_count": 8,
   "id": "53ec7860",
   "metadata": {},
   "outputs": [
    {
     "data": {
      "text/plain": [
       "array([3.5, 1.4, 0.2])"
      ]
     },
     "execution_count": 8,
     "metadata": {},
     "output_type": "execute_result"
    }
   ],
   "source": [
    "#print X\n",
    "X[0]"
   ]
  },
  {
   "cell_type": "code",
   "execution_count": 9,
   "id": "a2465ff3",
   "metadata": {},
   "outputs": [
    {
     "data": {
      "text/plain": [
       "(150, 3)"
      ]
     },
     "execution_count": 9,
     "metadata": {},
     "output_type": "execute_result"
    }
   ],
   "source": [
    "#print the shape of X\n",
    "X.shape"
   ]
  },
  {
   "cell_type": "code",
   "execution_count": 10,
   "id": "334d5c21",
   "metadata": {},
   "outputs": [
    {
     "data": {
      "text/plain": [
       "0"
      ]
     },
     "execution_count": 10,
     "metadata": {},
     "output_type": "execute_result"
    }
   ],
   "source": [
    "#print y\n",
    "y[0]"
   ]
  },
  {
   "cell_type": "code",
   "execution_count": 11,
   "id": "b7ce2fd0",
   "metadata": {},
   "outputs": [
    {
     "data": {
      "text/plain": [
       "(150,)"
      ]
     },
     "execution_count": 11,
     "metadata": {},
     "output_type": "execute_result"
    }
   ],
   "source": [
    "#print the shape of y\n",
    "y.shape"
   ]
  },
  {
   "cell_type": "markdown",
   "id": "d3245422",
   "metadata": {},
   "source": [
    "### split the dataset"
   ]
  },
  {
   "cell_type": "code",
   "execution_count": 12,
   "id": "6578aa15",
   "metadata": {},
   "outputs": [],
   "source": [
    "from sklearn.model_selection import train_test_split"
   ]
  },
  {
   "cell_type": "code",
   "execution_count": 13,
   "id": "261fd8c5",
   "metadata": {},
   "outputs": [],
   "source": [
    "#Split (X, y) into: X_train, X_test, y_train, y_test; use a test_size = 0.2\n",
    "X_train, X_test, y_train, y_test = train_test_split(X, y, test_size=0.2, random_state=42)"
   ]
  },
  {
   "cell_type": "code",
   "execution_count": 14,
   "id": "68b1f600",
   "metadata": {},
   "outputs": [],
   "source": [
    "from sklearn.preprocessing import StandardScaler"
   ]
  },
  {
   "cell_type": "code",
   "execution_count": 15,
   "id": "92bc6eb3",
   "metadata": {},
   "outputs": [],
   "source": [
    "#feature scaling, create a variable to use StandardScaler\n",
    "sc = StandardScaler()"
   ]
  },
  {
   "cell_type": "code",
   "execution_count": 16,
   "id": "df01bcd0",
   "metadata": {},
   "outputs": [],
   "source": [
    "#use sc.fit_transform for both X_train and X_test\n",
    "#hint: X_train = sc.fit_transform(X_train)\n",
    "#X_test = sc.transform(X_test)\n",
    "X_train = sc.fit_transform(X_train)\n",
    "X_test = sc.transform(X_test)"
   ]
  },
  {
   "cell_type": "code",
   "execution_count": 17,
   "id": "4324718b",
   "metadata": {},
   "outputs": [
    {
     "data": {
      "text/plain": [
       "(120, 3)"
      ]
     },
     "execution_count": 17,
     "metadata": {},
     "output_type": "execute_result"
    }
   ],
   "source": [
    "#display the shape of X_train\n",
    "X_train.shape"
   ]
  },
  {
   "cell_type": "code",
   "execution_count": 18,
   "id": "49890b89",
   "metadata": {},
   "outputs": [
    {
     "data": {
      "text/plain": [
       "array([ 1.20365799, -1.56253475, -1.31260282])"
      ]
     },
     "execution_count": 18,
     "metadata": {},
     "output_type": "execute_result"
    }
   ],
   "source": [
    "#display X_train\n",
    "X_train[0]"
   ]
  },
  {
   "cell_type": "code",
   "execution_count": 19,
   "id": "aeec2323",
   "metadata": {},
   "outputs": [
    {
     "data": {
      "text/plain": [
       "(30, 3)"
      ]
     },
     "execution_count": 19,
     "metadata": {},
     "output_type": "execute_result"
    }
   ],
   "source": [
    "#display the shape of X_test\n",
    "X_test.shape"
   ]
  },
  {
   "cell_type": "markdown",
   "id": "f8e4028a",
   "metadata": {},
   "source": [
    "## Applying Deep Learning techniques"
   ]
  },
  {
   "cell_type": "code",
   "execution_count": 20,
   "id": "c721f04b",
   "metadata": {},
   "outputs": [
    {
     "name": "stdout",
     "output_type": "stream",
     "text": [
      "[[-0.58505976  0.55777524  0.02224751]\n",
      " [ 1.65083742 -1.16139502 -1.17911778]\n",
      " [-1.0322392   1.8185001   1.49058286]\n",
      " [-0.36147005  0.44316389  0.4227026 ]\n",
      " [-0.58505976  0.61508092  0.28921757]\n",
      " [ 0.75647855 -1.27600637 -1.04563275]\n",
      " [-0.36147005 -0.07258719  0.15573254]\n",
      " [ 0.08570939  0.78699794  1.49058286]\n",
      " [-1.92659808  0.44316389  0.4227026 ]\n",
      " [-0.80864948  0.09932984  0.02224751]\n",
      " [ 0.30929911  0.78699794  1.09012776]\n",
      " [-0.13788033 -1.33331205 -1.44608785]\n",
      " [ 0.98006827 -1.39061772 -1.31260282]\n",
      " [ 0.08570939 -1.27600637 -1.44608785]\n",
      " [ 1.65083742 -1.27600637 -1.17911778]\n",
      " [ 0.53288883  0.55777524  0.55618763]\n",
      " [-0.13788033  1.18813767  1.35709783]\n",
      " [-1.25582892  0.09932984 -0.11123753]\n",
      " [-0.58505976  0.44316389  0.15573254]\n",
      " [-0.58505976  1.07352632  1.35709783]\n",
      " [ 0.30929911 -1.2187007  -1.31260282]\n",
      " [-0.13788033  0.67238659  0.8231577 ]\n",
      " [ 0.75647855 -1.2187007  -1.04563275]\n",
      " [-0.58505976  1.07352632  1.22361279]\n",
      " [ 1.65083742  1.53197172  1.09012776]\n",
      " [-0.13788033  0.84430362  1.49058286]\n",
      " [-1.25582892  1.18813767  0.8231577 ]\n",
      " [ 0.30929911  1.24544335  1.49058286]\n",
      " [-0.13788033 -1.33331205 -1.17911778]\n",
      " [ 0.08570939 -1.2187007  -1.31260282]]\n"
     ]
    }
   ],
   "source": [
    "#print the value of X_test\n",
    "print(X_test)"
   ]
  },
  {
   "cell_type": "code",
   "execution_count": 21,
   "id": "b7c3011c",
   "metadata": {},
   "outputs": [],
   "source": [
    "#initializing the ANN\n",
    "#use a sequential model\n",
    "#add layer\n",
    "#second layer\n",
    "#compile model\n",
    "\n",
    "#Add a sequential model\n",
    "model = Sequential()\n",
    "\n",
    "#Adding the first layer \n",
    "model.add(Dense(16, activation='relu', input_dim=3,))\n",
    "\n",
    "#Adding the output layers\n",
    "model.add(Dense(8, activation='relu'))\n",
    "\n",
    "model.add(Dense(1, activation='sigmoid'))\n",
    "\n",
    "#Compiling the ANN\n",
    "model.compile(optimizer=Adam(learning_rate=0.01), loss=\"binary_crossentropy\", metrics=['accuracy'])"
   ]
  },
  {
   "cell_type": "code",
   "execution_count": 22,
   "id": "d3a7a8c2",
   "metadata": {},
   "outputs": [
    {
     "name": "stdout",
     "output_type": "stream",
     "text": [
      "Model: \"sequential\"\n",
      "_________________________________________________________________\n",
      " Layer (type)                Output Shape              Param #   \n",
      "=================================================================\n",
      " dense (Dense)               (None, 16)                64        \n",
      "                                                                 \n",
      " dense_1 (Dense)             (None, 8)                 136       \n",
      "                                                                 \n",
      " dense_2 (Dense)             (None, 1)                 9         \n",
      "                                                                 \n",
      "=================================================================\n",
      "Total params: 209 (836.00 Byte)\n",
      "Trainable params: 209 (836.00 Byte)\n",
      "Non-trainable params: 0 (0.00 Byte)\n",
      "_________________________________________________________________\n"
     ]
    }
   ],
   "source": [
    "#summary of the model\n",
    "model.summary()"
   ]
  },
  {
   "cell_type": "code",
   "execution_count": 23,
   "id": "83e9c349",
   "metadata": {},
   "outputs": [
    {
     "name": "stdout",
     "output_type": "stream",
     "text": [
      "Epoch 1/100\n",
      "24/24 [==============================] - 1s 24ms/step - loss: -0.0963 - accuracy: 0.6167 - val_loss: -1.3324 - val_accuracy: 0.6333\n",
      "Epoch 2/100\n",
      "24/24 [==============================] - 0s 4ms/step - loss: -2.7496 - accuracy: 0.6667 - val_loss: -6.6111 - val_accuracy: 0.6333\n",
      "Epoch 3/100\n",
      "24/24 [==============================] - 0s 4ms/step - loss: -11.3286 - accuracy: 0.6667 - val_loss: -22.8881 - val_accuracy: 0.6333\n",
      "Epoch 4/100\n",
      "24/24 [==============================] - 0s 3ms/step - loss: -34.5832 - accuracy: 0.6750 - val_loss: -64.4902 - val_accuracy: 0.6333\n",
      "Epoch 5/100\n",
      "24/24 [==============================] - 0s 4ms/step - loss: -83.7891 - accuracy: 0.6750 - val_loss: -146.6148 - val_accuracy: 0.6333\n",
      "Epoch 6/100\n",
      "24/24 [==============================] - 0s 4ms/step - loss: -174.0801 - accuracy: 0.6750 - val_loss: -279.6137 - val_accuracy: 0.6333\n",
      "Epoch 7/100\n",
      "24/24 [==============================] - 0s 3ms/step - loss: -309.4496 - accuracy: 0.6750 - val_loss: -468.4241 - val_accuracy: 0.6333\n",
      "Epoch 8/100\n",
      "24/24 [==============================] - 0s 4ms/step - loss: -496.1257 - accuracy: 0.6750 - val_loss: -739.2324 - val_accuracy: 0.6333\n",
      "Epoch 9/100\n",
      "24/24 [==============================] - 0s 3ms/step - loss: -750.1986 - accuracy: 0.6750 - val_loss: -1073.7433 - val_accuracy: 0.6333\n",
      "Epoch 10/100\n",
      "24/24 [==============================] - 0s 4ms/step - loss: -1057.5945 - accuracy: 0.6750 - val_loss: -1501.6660 - val_accuracy: 0.6333\n",
      "Epoch 11/100\n",
      "24/24 [==============================] - 0s 4ms/step - loss: -1453.6910 - accuracy: 0.6750 - val_loss: -2022.8162 - val_accuracy: 0.6333\n",
      "Epoch 12/100\n",
      "24/24 [==============================] - 0s 4ms/step - loss: -1928.8000 - accuracy: 0.6750 - val_loss: -2694.1685 - val_accuracy: 0.6333\n",
      "Epoch 13/100\n",
      "24/24 [==============================] - 0s 4ms/step - loss: -2530.8584 - accuracy: 0.6750 - val_loss: -3492.4194 - val_accuracy: 0.6333\n",
      "Epoch 14/100\n",
      "24/24 [==============================] - 0s 4ms/step - loss: -3248.9973 - accuracy: 0.6750 - val_loss: -4411.9365 - val_accuracy: 0.6333\n",
      "Epoch 15/100\n",
      "24/24 [==============================] - 0s 3ms/step - loss: -4084.1892 - accuracy: 0.6750 - val_loss: -5478.3862 - val_accuracy: 0.6333\n",
      "Epoch 16/100\n",
      "24/24 [==============================] - 0s 4ms/step - loss: -5015.7012 - accuracy: 0.6750 - val_loss: -6752.1030 - val_accuracy: 0.6333\n",
      "Epoch 17/100\n",
      "24/24 [==============================] - 0s 4ms/step - loss: -6144.6167 - accuracy: 0.6750 - val_loss: -8123.9082 - val_accuracy: 0.6333\n",
      "Epoch 18/100\n",
      "24/24 [==============================] - 0s 4ms/step - loss: -7391.1138 - accuracy: 0.6750 - val_loss: -9696.3369 - val_accuracy: 0.6333\n",
      "Epoch 19/100\n",
      "24/24 [==============================] - 0s 3ms/step - loss: -8786.0322 - accuracy: 0.6750 - val_loss: -11536.6826 - val_accuracy: 0.6333\n",
      "Epoch 20/100\n",
      "24/24 [==============================] - 0s 4ms/step - loss: -10366.7598 - accuracy: 0.6750 - val_loss: -13558.3848 - val_accuracy: 0.6333\n",
      "Epoch 21/100\n",
      "24/24 [==============================] - 0s 4ms/step - loss: -12105.5107 - accuracy: 0.6750 - val_loss: -15834.2686 - val_accuracy: 0.6333\n",
      "Epoch 22/100\n",
      "24/24 [==============================] - 0s 4ms/step - loss: -14113.4238 - accuracy: 0.6750 - val_loss: -18192.3809 - val_accuracy: 0.6333\n",
      "Epoch 23/100\n",
      "24/24 [==============================] - 0s 4ms/step - loss: -16238.8574 - accuracy: 0.6750 - val_loss: -20933.0586 - val_accuracy: 0.6333\n",
      "Epoch 24/100\n",
      "24/24 [==============================] - 0s 4ms/step - loss: -18635.9980 - accuracy: 0.6750 - val_loss: -23861.8926 - val_accuracy: 0.6333\n",
      "Epoch 25/100\n",
      "24/24 [==============================] - 0s 4ms/step - loss: -21178.1074 - accuracy: 0.6750 - val_loss: -27046.4375 - val_accuracy: 0.6333\n",
      "Epoch 26/100\n",
      "24/24 [==============================] - 0s 4ms/step - loss: -23960.3203 - accuracy: 0.6750 - val_loss: -30391.5879 - val_accuracy: 0.6333\n",
      "Epoch 27/100\n",
      "24/24 [==============================] - 0s 4ms/step - loss: -26757.9590 - accuracy: 0.6750 - val_loss: -34381.2461 - val_accuracy: 0.6333\n",
      "Epoch 28/100\n",
      "24/24 [==============================] - 0s 4ms/step - loss: -30026.5176 - accuracy: 0.6750 - val_loss: -38401.5156 - val_accuracy: 0.6333\n",
      "Epoch 29/100\n",
      "24/24 [==============================] - 0s 4ms/step - loss: -33486.3203 - accuracy: 0.6750 - val_loss: -42588.9375 - val_accuracy: 0.6333\n",
      "Epoch 30/100\n",
      "24/24 [==============================] - 0s 4ms/step - loss: -37140.7227 - accuracy: 0.6750 - val_loss: -46926.7266 - val_accuracy: 0.6333\n",
      "Epoch 31/100\n",
      "24/24 [==============================] - 0s 4ms/step - loss: -40896.6523 - accuracy: 0.6750 - val_loss: -51775.5078 - val_accuracy: 0.6333\n",
      "Epoch 32/100\n",
      "24/24 [==============================] - 0s 4ms/step - loss: -45075.4570 - accuracy: 0.6750 - val_loss: -56747.4922 - val_accuracy: 0.6333\n",
      "Epoch 33/100\n",
      "24/24 [==============================] - 0s 3ms/step - loss: -49356.4805 - accuracy: 0.6750 - val_loss: -62310.8086 - val_accuracy: 0.6333\n",
      "Epoch 34/100\n",
      "24/24 [==============================] - 0s 4ms/step - loss: -54021.4648 - accuracy: 0.6750 - val_loss: -68038.5391 - val_accuracy: 0.6333\n",
      "Epoch 35/100\n",
      "24/24 [==============================] - 0s 4ms/step - loss: -58919.0000 - accuracy: 0.6750 - val_loss: -73982.6016 - val_accuracy: 0.6333\n",
      "Epoch 36/100\n",
      "24/24 [==============================] - 0s 3ms/step - loss: -63877.8750 - accuracy: 0.6750 - val_loss: -80434.1172 - val_accuracy: 0.6333\n",
      "Epoch 37/100\n",
      "24/24 [==============================] - 0s 3ms/step - loss: -69498.0703 - accuracy: 0.6750 - val_loss: -86659.3984 - val_accuracy: 0.6333\n",
      "Epoch 38/100\n",
      "24/24 [==============================] - 0s 3ms/step - loss: -75030.8750 - accuracy: 0.6750 - val_loss: -93738.0859 - val_accuracy: 0.6333\n",
      "Epoch 39/100\n",
      "24/24 [==============================] - 0s 3ms/step - loss: -81087.2734 - accuracy: 0.6667 - val_loss: -101086.4531 - val_accuracy: 0.6333\n",
      "Epoch 40/100\n",
      "24/24 [==============================] - 0s 3ms/step - loss: -87323.8047 - accuracy: 0.6750 - val_loss: -109138.5781 - val_accuracy: 0.6333\n",
      "Epoch 41/100\n",
      "24/24 [==============================] - 0s 3ms/step - loss: -94129.4062 - accuracy: 0.6750 - val_loss: -117251.3828 - val_accuracy: 0.6333\n",
      "Epoch 42/100\n",
      "24/24 [==============================] - 0s 3ms/step - loss: -101067.3516 - accuracy: 0.6750 - val_loss: -126022.9531 - val_accuracy: 0.6333\n",
      "Epoch 43/100\n",
      "24/24 [==============================] - 0s 3ms/step - loss: -108569.0078 - accuracy: 0.6750 - val_loss: -134811.1875 - val_accuracy: 0.6333\n",
      "Epoch 44/100\n",
      "24/24 [==============================] - 0s 4ms/step - loss: -115959.2969 - accuracy: 0.6750 - val_loss: -144659.7031 - val_accuracy: 0.6333\n",
      "Epoch 45/100\n",
      "24/24 [==============================] - 0s 3ms/step - loss: -124231.6328 - accuracy: 0.6750 - val_loss: -153991.8125 - val_accuracy: 0.6333\n",
      "Epoch 46/100\n",
      "24/24 [==============================] - 0s 3ms/step - loss: -132353.1094 - accuracy: 0.6750 - val_loss: -163861.3594 - val_accuracy: 0.6333\n",
      "Epoch 47/100\n",
      "24/24 [==============================] - 0s 3ms/step - loss: -140770.5000 - accuracy: 0.6750 - val_loss: -174716.5625 - val_accuracy: 0.6333\n",
      "Epoch 48/100\n",
      "24/24 [==============================] - 0s 3ms/step - loss: -149983.7188 - accuracy: 0.6750 - val_loss: -184903.0156 - val_accuracy: 0.6333\n",
      "Epoch 49/100\n",
      "24/24 [==============================] - 0s 3ms/step - loss: -158875.0000 - accuracy: 0.6750 - val_loss: -196582.3125 - val_accuracy: 0.6333\n",
      "Epoch 50/100\n",
      "24/24 [==============================] - 0s 4ms/step - loss: -168514.5938 - accuracy: 0.6750 - val_loss: -208105.6094 - val_accuracy: 0.6333\n",
      "Epoch 51/100\n",
      "24/24 [==============================] - 0s 3ms/step - loss: -178194.2969 - accuracy: 0.6750 - val_loss: -220321.0469 - val_accuracy: 0.6333\n",
      "Epoch 52/100\n",
      "24/24 [==============================] - 0s 3ms/step - loss: -188187.0781 - accuracy: 0.6750 - val_loss: -233201.0312 - val_accuracy: 0.6333\n",
      "Epoch 53/100\n",
      "24/24 [==============================] - 0s 3ms/step - loss: -198862.5625 - accuracy: 0.6750 - val_loss: -246030.0625 - val_accuracy: 0.6333\n",
      "Epoch 54/100\n",
      "24/24 [==============================] - 0s 4ms/step - loss: -209836.5312 - accuracy: 0.6750 - val_loss: -258938.7812 - val_accuracy: 0.6333\n",
      "Epoch 55/100\n"
     ]
    },
    {
     "name": "stdout",
     "output_type": "stream",
     "text": [
      "24/24 [==============================] - 0s 3ms/step - loss: -221113.2969 - accuracy: 0.6750 - val_loss: -272264.5312 - val_accuracy: 0.6333\n",
      "Epoch 56/100\n",
      "24/24 [==============================] - 0s 3ms/step - loss: -232409.0938 - accuracy: 0.6750 - val_loss: -287066.3438 - val_accuracy: 0.6333\n",
      "Epoch 57/100\n",
      "24/24 [==============================] - 0s 5ms/step - loss: -244858.4062 - accuracy: 0.6750 - val_loss: -301305.7188 - val_accuracy: 0.6333\n",
      "Epoch 58/100\n",
      "24/24 [==============================] - 0s 3ms/step - loss: -256854.1094 - accuracy: 0.6750 - val_loss: -317090.9688 - val_accuracy: 0.6333\n",
      "Epoch 59/100\n",
      "24/24 [==============================] - 0s 3ms/step - loss: -270040.5625 - accuracy: 0.6750 - val_loss: -331807.9375 - val_accuracy: 0.6333\n",
      "Epoch 60/100\n",
      "24/24 [==============================] - 0s 3ms/step - loss: -283062.9375 - accuracy: 0.6750 - val_loss: -347365.5000 - val_accuracy: 0.6333\n",
      "Epoch 61/100\n",
      "24/24 [==============================] - 0s 3ms/step - loss: -296143.8750 - accuracy: 0.6750 - val_loss: -364293.4375 - val_accuracy: 0.6333\n",
      "Epoch 62/100\n",
      "24/24 [==============================] - 0s 4ms/step - loss: -310152.1875 - accuracy: 0.6750 - val_loss: -380978.6875 - val_accuracy: 0.6333\n",
      "Epoch 63/100\n",
      "24/24 [==============================] - 0s 4ms/step - loss: -324090.3125 - accuracy: 0.6750 - val_loss: -398502.3438 - val_accuracy: 0.6333\n",
      "Epoch 64/100\n",
      "24/24 [==============================] - 0s 4ms/step - loss: -338714.8125 - accuracy: 0.6750 - val_loss: -415979.1875 - val_accuracy: 0.6333\n",
      "Epoch 65/100\n",
      "24/24 [==============================] - 0s 3ms/step - loss: -353030.6875 - accuracy: 0.6750 - val_loss: -434900.1250 - val_accuracy: 0.6333\n",
      "Epoch 66/100\n",
      "24/24 [==============================] - 0s 3ms/step - loss: -369042.4062 - accuracy: 0.6750 - val_loss: -452426.9375 - val_accuracy: 0.6333\n",
      "Epoch 67/100\n",
      "24/24 [==============================] - 0s 4ms/step - loss: -384427.3125 - accuracy: 0.6750 - val_loss: -471050.0625 - val_accuracy: 0.6333\n",
      "Epoch 68/100\n",
      "24/24 [==============================] - 0s 4ms/step - loss: -399718.7812 - accuracy: 0.6750 - val_loss: -491831.5312 - val_accuracy: 0.6333\n",
      "Epoch 69/100\n",
      "24/24 [==============================] - 0s 4ms/step - loss: -416883.5938 - accuracy: 0.6750 - val_loss: -511075.3438 - val_accuracy: 0.6333\n",
      "Epoch 70/100\n",
      "24/24 [==============================] - 0s 4ms/step - loss: -433762.4688 - accuracy: 0.6750 - val_loss: -530813.1250 - val_accuracy: 0.6333\n",
      "Epoch 71/100\n",
      "24/24 [==============================] - 0s 4ms/step - loss: -450420.3125 - accuracy: 0.6750 - val_loss: -552829.7500 - val_accuracy: 0.6333\n",
      "Epoch 72/100\n",
      "24/24 [==============================] - 0s 4ms/step - loss: -468913.9062 - accuracy: 0.6750 - val_loss: -573118.1250 - val_accuracy: 0.6333\n",
      "Epoch 73/100\n",
      "24/24 [==============================] - 0s 3ms/step - loss: -486541.0938 - accuracy: 0.6750 - val_loss: -595600.3750 - val_accuracy: 0.6333\n",
      "Epoch 74/100\n",
      "24/24 [==============================] - 0s 3ms/step - loss: -504768.9375 - accuracy: 0.6750 - val_loss: -619146.5625 - val_accuracy: 0.6333\n",
      "Epoch 75/100\n",
      "24/24 [==============================] - 0s 3ms/step - loss: -524382.9375 - accuracy: 0.6750 - val_loss: -641384.8125 - val_accuracy: 0.6333\n",
      "Epoch 76/100\n",
      "24/24 [==============================] - 0s 3ms/step - loss: -542736.6250 - accuracy: 0.6750 - val_loss: -666434.3750 - val_accuracy: 0.6333\n",
      "Epoch 77/100\n",
      "24/24 [==============================] - 0s 3ms/step - loss: -563681.1250 - accuracy: 0.6750 - val_loss: -688455.6250 - val_accuracy: 0.6333\n",
      "Epoch 78/100\n",
      "24/24 [==============================] - 0s 3ms/step - loss: -583075.4375 - accuracy: 0.6667 - val_loss: -712794.2500 - val_accuracy: 0.6333\n",
      "Epoch 79/100\n",
      "24/24 [==============================] - 0s 3ms/step - loss: -603251.4375 - accuracy: 0.6750 - val_loss: -738369.4375 - val_accuracy: 0.6333\n",
      "Epoch 80/100\n",
      "24/24 [==============================] - 0s 3ms/step - loss: -624372.3750 - accuracy: 0.6750 - val_loss: -763707.0625 - val_accuracy: 0.6333\n",
      "Epoch 81/100\n",
      "24/24 [==============================] - 0s 3ms/step - loss: -645573.0625 - accuracy: 0.6750 - val_loss: -789303.0625 - val_accuracy: 0.6333\n",
      "Epoch 82/100\n",
      "24/24 [==============================] - 0s 4ms/step - loss: -667846.7500 - accuracy: 0.6750 - val_loss: -813421.3125 - val_accuracy: 0.6333\n",
      "Epoch 83/100\n",
      "24/24 [==============================] - 0s 4ms/step - loss: -688546.8750 - accuracy: 0.6750 - val_loss: -842175.8750 - val_accuracy: 0.6333\n",
      "Epoch 84/100\n",
      "24/24 [==============================] - 0s 3ms/step - loss: -711852.1250 - accuracy: 0.6750 - val_loss: -868968.0000 - val_accuracy: 0.6333\n",
      "Epoch 85/100\n",
      "24/24 [==============================] - 0s 3ms/step - loss: -734109.1875 - accuracy: 0.6750 - val_loss: -896933.3125 - val_accuracy: 0.6333\n",
      "Epoch 86/100\n",
      "24/24 [==============================] - 0s 3ms/step - loss: -758069.6875 - accuracy: 0.6750 - val_loss: -923038.4375 - val_accuracy: 0.6333\n",
      "Epoch 87/100\n",
      "24/24 [==============================] - 0s 3ms/step - loss: -779765.8125 - accuracy: 0.6750 - val_loss: -953921.0000 - val_accuracy: 0.6333\n",
      "Epoch 88/100\n",
      "24/24 [==============================] - 0s 3ms/step - loss: -805044.9375 - accuracy: 0.6750 - val_loss: -981576.4375 - val_accuracy: 0.6333\n",
      "Epoch 89/100\n",
      "24/24 [==============================] - 0s 3ms/step - loss: -828996.5625 - accuracy: 0.6750 - val_loss: -1010099.2500 - val_accuracy: 0.6333\n",
      "Epoch 90/100\n",
      "24/24 [==============================] - 0s 3ms/step - loss: -853317.8125 - accuracy: 0.6750 - val_loss: -1040733.6250 - val_accuracy: 0.6333\n",
      "Epoch 91/100\n",
      "24/24 [==============================] - 0s 3ms/step - loss: -879107.6875 - accuracy: 0.6750 - val_loss: -1070376.0000 - val_accuracy: 0.6333\n",
      "Epoch 92/100\n",
      "24/24 [==============================] - 0s 3ms/step - loss: -904105.8125 - accuracy: 0.6750 - val_loss: -1102236.3750 - val_accuracy: 0.6333\n",
      "Epoch 93/100\n",
      "24/24 [==============================] - 0s 4ms/step - loss: -930574.0000 - accuracy: 0.6750 - val_loss: -1133646.2500 - val_accuracy: 0.6333\n",
      "Epoch 94/100\n",
      "24/24 [==============================] - 0s 4ms/step - loss: -956790.8125 - accuracy: 0.6750 - val_loss: -1166714.3750 - val_accuracy: 0.6333\n",
      "Epoch 95/100\n",
      "24/24 [==============================] - 0s 3ms/step - loss: -984645.3125 - accuracy: 0.6750 - val_loss: -1197713.2500 - val_accuracy: 0.6333\n",
      "Epoch 96/100\n",
      "24/24 [==============================] - 0s 3ms/step - loss: -1009635.2500 - accuracy: 0.6750 - val_loss: -1234243.2500 - val_accuracy: 0.6333\n",
      "Epoch 97/100\n",
      "24/24 [==============================] - 0s 3ms/step - loss: -1039847.2500 - accuracy: 0.6750 - val_loss: -1266019.7500 - val_accuracy: 0.6333\n",
      "Epoch 98/100\n",
      "24/24 [==============================] - 0s 3ms/step - loss: -1067703.3750 - accuracy: 0.6750 - val_loss: -1299614.1250 - val_accuracy: 0.6333\n",
      "Epoch 99/100\n",
      "24/24 [==============================] - 0s 3ms/step - loss: -1096562.6250 - accuracy: 0.6750 - val_loss: -1333069.6250 - val_accuracy: 0.6333\n",
      "Epoch 100/100\n",
      "24/24 [==============================] - 0s 3ms/step - loss: -1124402.8750 - accuracy: 0.6750 - val_loss: -1370596.1250 - val_accuracy: 0.6333\n"
     ]
    },
    {
     "data": {
      "text/plain": [
       "<keras.src.callbacks.History at 0x19aed505fd0>"
      ]
     },
     "execution_count": 23,
     "metadata": {},
     "output_type": "execute_result"
    }
   ],
   "source": [
    "#use model.fit to train the ANN\n",
    "model.fit(X_train, y_train, validation_data=(X_test, y_test), batch_size=5, epochs=100, verbose=1)"
   ]
  },
  {
   "cell_type": "markdown",
   "id": "ad83ebeb",
   "metadata": {},
   "source": [
    "### Visualize the Model Loss"
   ]
  },
  {
   "cell_type": "code",
   "execution_count": 24,
   "id": "0b342df2",
   "metadata": {},
   "outputs": [
    {
     "data": {
      "text/plain": [
       "<matplotlib.legend.Legend at 0x19aed6eefd0>"
      ]
     },
     "execution_count": 24,
     "metadata": {},
     "output_type": "execute_result"
    },
    {
     "data": {
      "image/png": "[encoded data removed]",
      "text/plain": [
       "<Figure size 1400x600 with 1 Axes>"
      ]
     },
     "metadata": {},
     "output_type": "display_data"
    }
   ],
   "source": [
    "#plot the model loss vs epocs\n",
    "plt.figure(figsize=(14,6))\n",
    "plt.plot(model.history.history['loss'][:])\n",
    "plt.plot(model.history.history['val_loss'][:])\n",
    "plt.title('Model loss')\n",
    "plt.xlabel('epoch')\n",
    "plt.ylabel('loss (mse)')\n",
    "plt.legend(['Train', 'Val'], loc='upper right')"
   ]
  },
  {
   "cell_type": "markdown",
   "id": "99bcb772",
   "metadata": {},
   "source": [
    "### Print accuracy"
   ]
  },
  {
   "cell_type": "code",
   "execution_count": 25,
   "id": "63a8aa31",
   "metadata": {},
   "outputs": [
    {
     "name": "stdout",
     "output_type": "stream",
     "text": [
      "Test Accuracy: 0.6333333253860474\n"
     ]
    }
   ],
   "source": [
    "#your code goes here\n",
    "loss, accuracy = model.evaluate(X_test, y_test, verbose=0)\n",
    "print(\"Test Accuracy:\", accuracy)"
   ]
  },
  {
   "cell_type": "code",
   "execution_count": 26,
   "id": "1d8fd8a0",
   "metadata": {},
   "outputs": [],
   "source": [
    "from sklearn.metrics import mean_absolute_error"
   ]
  },
  {
   "cell_type": "code",
   "execution_count": 27,
   "id": "44a9c97c",
   "metadata": {},
   "outputs": [
    {
     "name": "stdout",
     "output_type": "stream",
     "text": [
      "1/1 [==============================] - 0s 104ms/step\n"
     ]
    },
    {
     "data": {
      "text/plain": [
       "array([[1.],\n",
       "       [0.],\n",
       "       [1.],\n",
       "       [1.],\n",
       "       [1.]], dtype=float32)"
      ]
     },
     "execution_count": 27,
     "metadata": {},
     "output_type": "execute_result"
    }
   ],
   "source": [
    "#display the prediction of first 5 values, then calculate mae, lastly print first 5 predictions\n",
    "#Let's check how much we are off on average \n",
    "#Enter three lines of code here:\n",
    "y_pred = model.predict(X_test)\n",
    "mae = mean_absolute_error(y_test, y_pred)\n",
    "y_pred[0:5]"
   ]
  },
  {
   "cell_type": "code",
   "execution_count": 28,
   "id": "59999e2c",
   "metadata": {},
   "outputs": [
    {
     "data": {
      "text/plain": [
       "0.36666666666666664"
      ]
     },
     "execution_count": 28,
     "metadata": {},
     "output_type": "execute_result"
    }
   ],
   "source": [
    "#print mae value\n",
    "mae"
   ]
  },
  {
   "cell_type": "code",
   "execution_count": 29,
   "id": "be817f06",
   "metadata": {},
   "outputs": [
    {
     "data": {
      "text/plain": [
       "array([1.], dtype=float32)"
      ]
     },
     "execution_count": 29,
     "metadata": {},
     "output_type": "execute_result"
    }
   ],
   "source": [
    "#print the real value of sample 19\n",
    "y_pred[19]"
   ]
  },
  {
   "cell_type": "code",
   "execution_count": 30,
   "id": "24ce1d43",
   "metadata": {},
   "outputs": [
    {
     "name": "stdout",
     "output_type": "stream",
     "text": [
      "1/1 [==============================] - 0s 23ms/step\n"
     ]
    },
    {
     "data": {
      "text/plain": [
       "array([[1.]], dtype=float32)"
      ]
     },
     "execution_count": 30,
     "metadata": {},
     "output_type": "execute_result"
    }
   ],
   "source": [
    "#use model.predict and numpy reshape, print the predicted value of the same # above\n",
    "model.predict(np.reshape(X_test[19], [1,-1]))"
   ]
  },
  {
   "cell_type": "markdown",
   "id": "36974400",
   "metadata": {},
   "source": [
    "#### Confusion Matrix"
   ]
  },
  {
   "cell_type": "code",
   "execution_count": 31,
   "id": "516bce6e",
   "metadata": {},
   "outputs": [
    {
     "data": {
      "image/png": "[encoded data removed]",
      "text/plain": [
       "<Figure size 640x480 with 1 Axes>"
      ]
     },
     "metadata": {},
     "output_type": "display_data"
    }
   ],
   "source": [
    "from sklearn.metrics import confusion_matrix\n",
    "from sklearn.neighbors import KNeighborsClassifier\n",
    "\n",
    "import seaborn as sns\n",
    "iris = load_iris()\n",
    "X = iris.data\n",
    "y = iris.target\n",
    "\n",
    "#Split the dataset into training and test sets\n",
    "X_train, X_test, y_train, y_test = train_test_split(X, y, test_size=0.2, random_state=42)\n",
    "classifier = KNeighborsClassifier(n_neighbors=3)\n",
    "classifier.fit(X_train, y_train)\n",
    "y_pred = classifier.predict(X_test)\n",
    "cm = confusion_matrix(y_test, y_pred)\n",
    "\n",
    "#Visualize the confusion matrix\n",
    "class_names = iris.target_names\n",
    "fig, ax = plt.subplots()\n",
    "sns.heatmap(cm, annot=True, fmt=\"d\", cmap=\"Blues\", cbar=False, xticklabels=class_names, yticklabels=class_names, ax=ax)\n",
    "ax.set_xlabel('Predicted label')\n",
    "ax.set_ylabel('True label')\n",
    "ax.set_title('Confusion Matrix')\n",
    "plt.show()"
   ]
  },
  {
   "cell_type": "code",
   "execution_count": null,
   "id": "9e6679c5",
   "metadata": {},
   "outputs": [],
   "source": []
  },
  {
   "cell_type": "markdown",
   "id": "1e08d674",
   "metadata": {},
   "source": [
    "### Tuning Hyperparameters"
   ]
  },
  {
   "cell_type": "code",
   "execution_count": 32,
   "id": "b71825a9",
   "metadata": {},
   "outputs": [],
   "source": [
    "#Create a folder path for Hyperparameter tuning\n",
    "folder_path = \"my_dir/intro_to_kt/\""
   ]
  },
  {
   "cell_type": "code",
   "execution_count": 33,
   "id": "47909266",
   "metadata": {},
   "outputs": [
    {
     "name": "stdout",
     "output_type": "stream",
     "text": [
      "The folder 'my_dir/' does not exist.\n"
     ]
    }
   ],
   "source": [
    "import os\n",
    "import shutil\n",
    "\n",
    "#shutil module is part of the Python standard library and provides a \n",
    "#collection of utility functions for working with files and directories. \n",
    "\n",
    "folder_path = \"my_dir/\"\n",
    "\n",
    "#Check if the folder exists before attempting to delete it\n",
    "if os.path.exists(folder_path):\n",
    "    #Remove the folder and its contents recursively\n",
    "    shutil.rmtree(folder_path)\n",
    "    print(f\"The folder '{folder_path}' has been deleted.\")\n",
    "else:\n",
    "    print(f\"The folder '{folder_path}' does not exist.\")"
   ]
  },
  {
   "cell_type": "code",
   "execution_count": 34,
   "id": "3db9bb10",
   "metadata": {},
   "outputs": [
    {
     "name": "stdout",
     "output_type": "stream",
     "text": [
      "The folder 'C:/Users/User/AppData/Local/Temp/.tensorboard-info/' does not exist.\n"
     ]
    }
   ],
   "source": [
    "#Delete the \".tensorboard-info\" directory \n",
    "folder_path = \"C:/Users/User/AppData/Local/Temp/.tensorboard-info/\"\n",
    "\n",
    "#Check if the folder exists before attempting to delete it\n",
    "if os.path.exists(folder_path):\n",
    "    #Remove the folder and its contents recursively\n",
    "    shutil.rmtree(folder_path)\n",
    "    print(f\"The folder '{folder_path}' has been deleted.\")\n",
    "else:\n",
    "    print(f\"The folder '{folder_path}' does not exist.\")"
   ]
  },
  {
   "cell_type": "markdown",
   "id": "001b24c6",
   "metadata": {},
   "source": [
    "<b>Hyperparameters Tuning </b>: \n",
    "\n",
    "The number of neurons in the dense layer  \n",
    "The learning rate is searched for the values 0.01, 0.001 or 0.0001."
   ]
  },
  {
   "cell_type": "code",
   "execution_count": 35,
   "id": "deb3f1b1",
   "metadata": {},
   "outputs": [],
   "source": [
    "#Create a model-building function\n",
    "def model_builder(hp):\n",
    "    \n",
    "    model = Sequential()\n",
    "    model.add(Flatten())\n",
    "    model.add(Dense(units=hp.Int('dense_units_1', min_value=16, max_value=32, step=4),\n",
    "                         activation='relu'))\n",
    "    model.add(Dense(units=hp.Int('dense_units_2', min_value=8, max_value=32, step=4),\n",
    "                         activation='relu'))\n",
    "    model.add(Dense(101, activation='softmax'))\n",
    "    model.compile( optimizer=Adam(learning_rate=hp.Choice('learning_rate', values=[1e-2, 1e-3, 1e-4])),\n",
    "                  loss='sparse_categorical_crossentropy', metrics=['accuracy'])\n",
    "    \n",
    "    return model"
   ]
  },
  {
   "cell_type": "code",
   "execution_count": 36,
   "id": "9900c0ed",
   "metadata": {},
   "outputs": [],
   "source": [
    "tuner = RandomSearch( model_builder, objective='val_accuracy', max_trials=10,\n",
    "    directory='my_dir', project_name='intro_to_kt')"
   ]
  },
  {
   "cell_type": "code",
   "execution_count": 37,
   "id": "9e10f14b",
   "metadata": {},
   "outputs": [
    {
     "name": "stdout",
     "output_type": "stream",
     "text": [
      "Trial 10 Complete [00h 00m 07s]\n",
      "val_accuracy: 1.0\n",
      "\n",
      "Best val_accuracy So Far: 1.0\n",
      "Total elapsed time: 00h 01m 20s\n"
     ]
    }
   ],
   "source": [
    "#Search the hyperparameters to see which combination provides the best model result\n",
    "tuner.search(X_train, y_train, validation_data=(X_test, y_test), epochs=100)"
   ]
  },
  {
   "cell_type": "code",
   "execution_count": 38,
   "id": "1fb31e5d",
   "metadata": {},
   "outputs": [],
   "source": [
    "#Retrieve the optimal hyperparameters\n",
    "best_hps = tuner.get_best_hyperparameters(num_trials=1)[0]"
   ]
  },
  {
   "cell_type": "code",
   "execution_count": 39,
   "id": "899f73d2",
   "metadata": {},
   "outputs": [
    {
     "name": "stdout",
     "output_type": "stream",
     "text": [
      "The hyperparameter search is complete.\n",
      "The optimal number of neurons is 32.\n",
      "The optimal number of neurons is 32.\n"
     ]
    }
   ],
   "source": [
    "#Display the best hyperparameters\n",
    "print(f\"The hyperparameter search is complete.\")\n",
    "print(f\"The optimal number of neurons is {best_hps.get('dense_units_1')}.\")\n",
    "print(f\"The optimal number of neurons is {best_hps.get('dense_units_2')}.\")"
   ]
  },
  {
   "cell_type": "markdown",
   "id": "92b63781",
   "metadata": {},
   "source": [
    "#### Build the final model using the optimal hyperparameters"
   ]
  },
  {
   "cell_type": "code",
   "execution_count": 40,
   "id": "3d14322d",
   "metadata": {},
   "outputs": [],
   "source": [
    "#Create the final model with the optimal hyperparameters\n",
    "final_model = tuner.hypermodel.build(best_hps)"
   ]
  },
  {
   "cell_type": "code",
   "execution_count": 41,
   "id": "8d0f32ba",
   "metadata": {},
   "outputs": [
    {
     "name": "stdout",
     "output_type": "stream",
     "text": [
      "Epoch 1/100\n",
      "4/4 [==============================] - 1s 93ms/step - loss: 4.6729 - accuracy: 0.0000e+00 - val_loss: 4.4404 - val_accuracy: 0.0000e+00\n",
      "Epoch 2/100\n",
      "4/4 [==============================] - 0s 15ms/step - loss: 4.3952 - accuracy: 0.0000e+00 - val_loss: 4.1716 - val_accuracy: 0.0000e+00\n",
      "Epoch 3/100\n",
      "4/4 [==============================] - 0s 15ms/step - loss: 4.1346 - accuracy: 0.0000e+00 - val_loss: 3.9174 - val_accuracy: 0.0000e+00\n",
      "Epoch 4/100\n",
      "4/4 [==============================] - 0s 16ms/step - loss: 3.8897 - accuracy: 0.1250 - val_loss: 3.6698 - val_accuracy: 0.3333\n",
      "Epoch 5/100\n",
      "4/4 [==============================] - 0s 14ms/step - loss: 3.6459 - accuracy: 0.3333 - val_loss: 3.4193 - val_accuracy: 0.3333\n",
      "Epoch 6/100\n",
      "4/4 [==============================] - 0s 17ms/step - loss: 3.4006 - accuracy: 0.3333 - val_loss: 3.1651 - val_accuracy: 0.3333\n",
      "Epoch 7/100\n",
      "4/4 [==============================] - 0s 16ms/step - loss: 3.1509 - accuracy: 0.3333 - val_loss: 2.9023 - val_accuracy: 0.3333\n",
      "Epoch 8/100\n",
      "4/4 [==============================] - 0s 15ms/step - loss: 2.8891 - accuracy: 0.3333 - val_loss: 2.6332 - val_accuracy: 0.3333\n",
      "Epoch 9/100\n",
      "4/4 [==============================] - 0s 15ms/step - loss: 2.6212 - accuracy: 0.3333 - val_loss: 2.3619 - val_accuracy: 0.3333\n",
      "Epoch 10/100\n",
      "4/4 [==============================] - 0s 14ms/step - loss: 2.3546 - accuracy: 0.3333 - val_loss: 2.0980 - val_accuracy: 0.3333\n",
      "Epoch 11/100\n",
      "4/4 [==============================] - 0s 16ms/step - loss: 2.0971 - accuracy: 0.3333 - val_loss: 1.8530 - val_accuracy: 0.3333\n",
      "Epoch 12/100\n",
      "4/4 [==============================] - 0s 14ms/step - loss: 1.8597 - accuracy: 0.3333 - val_loss: 1.6328 - val_accuracy: 0.4000\n",
      "Epoch 13/100\n",
      "4/4 [==============================] - 0s 14ms/step - loss: 1.6470 - accuracy: 0.4500 - val_loss: 1.4377 - val_accuracy: 0.6000\n",
      "Epoch 14/100\n",
      "4/4 [==============================] - 0s 15ms/step - loss: 1.4585 - accuracy: 0.6583 - val_loss: 1.2697 - val_accuracy: 0.7000\n",
      "Epoch 15/100\n",
      "4/4 [==============================] - 0s 15ms/step - loss: 1.2986 - accuracy: 0.6583 - val_loss: 1.1284 - val_accuracy: 0.7000\n",
      "Epoch 16/100\n",
      "4/4 [==============================] - 0s 14ms/step - loss: 1.1564 - accuracy: 0.6583 - val_loss: 1.0168 - val_accuracy: 0.7000\n",
      "Epoch 17/100\n",
      "4/4 [==============================] - 0s 15ms/step - loss: 1.0444 - accuracy: 0.6583 - val_loss: 0.9293 - val_accuracy: 0.7000\n",
      "Epoch 18/100\n",
      "4/4 [==============================] - 0s 14ms/step - loss: 0.9476 - accuracy: 0.6583 - val_loss: 0.8629 - val_accuracy: 0.7000\n",
      "Epoch 19/100\n",
      "4/4 [==============================] - 0s 16ms/step - loss: 0.8777 - accuracy: 0.6583 - val_loss: 0.8171 - val_accuracy: 0.7000\n",
      "Epoch 20/100\n",
      "4/4 [==============================] - 0s 19ms/step - loss: 0.8277 - accuracy: 0.6583 - val_loss: 0.7862 - val_accuracy: 0.7667\n",
      "Epoch 21/100\n",
      "4/4 [==============================] - 0s 18ms/step - loss: 0.7959 - accuracy: 0.8333 - val_loss: 0.7622 - val_accuracy: 0.8667\n",
      "Epoch 22/100\n",
      "4/4 [==============================] - 0s 19ms/step - loss: 0.7617 - accuracy: 0.9583 - val_loss: 0.7309 - val_accuracy: 0.9667\n",
      "Epoch 23/100\n",
      "4/4 [==============================] - 0s 17ms/step - loss: 0.7312 - accuracy: 0.9667 - val_loss: 0.7002 - val_accuracy: 0.8333\n",
      "Epoch 24/100\n",
      "4/4 [==============================] - 0s 17ms/step - loss: 0.7046 - accuracy: 0.7750 - val_loss: 0.6718 - val_accuracy: 0.7333\n",
      "Epoch 25/100\n",
      "4/4 [==============================] - 0s 15ms/step - loss: 0.6796 - accuracy: 0.6917 - val_loss: 0.6489 - val_accuracy: 0.7333\n",
      "Epoch 26/100\n",
      "4/4 [==============================] - 0s 17ms/step - loss: 0.6609 - accuracy: 0.6750 - val_loss: 0.6271 - val_accuracy: 0.7000\n",
      "Epoch 27/100\n",
      "4/4 [==============================] - 0s 18ms/step - loss: 0.6400 - accuracy: 0.6750 - val_loss: 0.6088 - val_accuracy: 0.7333\n",
      "Epoch 28/100\n",
      "4/4 [==============================] - 0s 18ms/step - loss: 0.6209 - accuracy: 0.7167 - val_loss: 0.5937 - val_accuracy: 0.7667\n",
      "Epoch 29/100\n",
      "4/4 [==============================] - 0s 18ms/step - loss: 0.6038 - accuracy: 0.8250 - val_loss: 0.5796 - val_accuracy: 0.8333\n",
      "Epoch 30/100\n",
      "4/4 [==============================] - 0s 18ms/step - loss: 0.5885 - accuracy: 0.8833 - val_loss: 0.5646 - val_accuracy: 0.8333\n",
      "Epoch 31/100\n",
      "4/4 [==============================] - 0s 18ms/step - loss: 0.5725 - accuracy: 0.8917 - val_loss: 0.5494 - val_accuracy: 0.8333\n",
      "Epoch 32/100\n",
      "4/4 [==============================] - 0s 17ms/step - loss: 0.5580 - accuracy: 0.8750 - val_loss: 0.5364 - val_accuracy: 0.8333\n",
      "Epoch 33/100\n",
      "4/4 [==============================] - 0s 16ms/step - loss: 0.5438 - accuracy: 0.9083 - val_loss: 0.5244 - val_accuracy: 0.9000\n",
      "Epoch 34/100\n",
      "4/4 [==============================] - 0s 16ms/step - loss: 0.5312 - accuracy: 0.9083 - val_loss: 0.5119 - val_accuracy: 0.9000\n",
      "Epoch 35/100\n",
      "4/4 [==============================] - 0s 15ms/step - loss: 0.5196 - accuracy: 0.9083 - val_loss: 0.4995 - val_accuracy: 0.9000\n",
      "Epoch 36/100\n",
      "4/4 [==============================] - 0s 15ms/step - loss: 0.5078 - accuracy: 0.9083 - val_loss: 0.4883 - val_accuracy: 0.8333\n",
      "Epoch 37/100\n",
      "4/4 [==============================] - 0s 15ms/step - loss: 0.4977 - accuracy: 0.9083 - val_loss: 0.4799 - val_accuracy: 0.9667\n",
      "Epoch 38/100\n",
      "4/4 [==============================] - 0s 15ms/step - loss: 0.4864 - accuracy: 0.9500 - val_loss: 0.4691 - val_accuracy: 0.9667\n",
      "Epoch 39/100\n",
      "4/4 [==============================] - 0s 15ms/step - loss: 0.4764 - accuracy: 0.9167 - val_loss: 0.4595 - val_accuracy: 0.9333\n",
      "Epoch 40/100\n",
      "4/4 [==============================] - 0s 15ms/step - loss: 0.4673 - accuracy: 0.9167 - val_loss: 0.4501 - val_accuracy: 0.9667\n",
      "Epoch 41/100\n",
      "4/4 [==============================] - 0s 15ms/step - loss: 0.4585 - accuracy: 0.9167 - val_loss: 0.4412 - val_accuracy: 0.9667\n",
      "Epoch 42/100\n",
      "4/4 [==============================] - 0s 15ms/step - loss: 0.4488 - accuracy: 0.9333 - val_loss: 0.4348 - val_accuracy: 0.9667\n",
      "Epoch 43/100\n",
      "4/4 [==============================] - 0s 15ms/step - loss: 0.4412 - accuracy: 0.9750 - val_loss: 0.4286 - val_accuracy: 0.9667\n",
      "Epoch 44/100\n",
      "4/4 [==============================] - 0s 15ms/step - loss: 0.4324 - accuracy: 0.9750 - val_loss: 0.4198 - val_accuracy: 0.9667\n",
      "Epoch 45/100\n",
      "4/4 [==============================] - 0s 14ms/step - loss: 0.4242 - accuracy: 0.9667 - val_loss: 0.4105 - val_accuracy: 0.9667\n",
      "Epoch 46/100\n",
      "4/4 [==============================] - 0s 14ms/step - loss: 0.4164 - accuracy: 0.9417 - val_loss: 0.4031 - val_accuracy: 0.9667\n",
      "Epoch 47/100\n",
      "4/4 [==============================] - 0s 14ms/step - loss: 0.4088 - accuracy: 0.9583 - val_loss: 0.3964 - val_accuracy: 0.9667\n",
      "Epoch 48/100\n",
      "4/4 [==============================] - 0s 14ms/step - loss: 0.4009 - accuracy: 0.9583 - val_loss: 0.3900 - val_accuracy: 0.9667\n",
      "Epoch 49/100\n",
      "4/4 [==============================] - 0s 14ms/step - loss: 0.3938 - accuracy: 0.9750 - val_loss: 0.3848 - val_accuracy: 0.9667\n",
      "Epoch 50/100\n",
      "4/4 [==============================] - 0s 14ms/step - loss: 0.3867 - accuracy: 0.9750 - val_loss: 0.3779 - val_accuracy: 0.9667\n",
      "Epoch 51/100\n",
      "4/4 [==============================] - 0s 14ms/step - loss: 0.3797 - accuracy: 0.9750 - val_loss: 0.3708 - val_accuracy: 0.9667\n",
      "Epoch 52/100\n",
      "4/4 [==============================] - 0s 16ms/step - loss: 0.3722 - accuracy: 0.9750 - val_loss: 0.3632 - val_accuracy: 0.9667\n",
      "Epoch 53/100\n",
      "4/4 [==============================] - 0s 14ms/step - loss: 0.3656 - accuracy: 0.9583 - val_loss: 0.3564 - val_accuracy: 0.9667\n",
      "Epoch 54/100\n",
      "4/4 [==============================] - 0s 14ms/step - loss: 0.3603 - accuracy: 0.9583 - val_loss: 0.3505 - val_accuracy: 0.9667\n",
      "Epoch 55/100\n",
      "4/4 [==============================] - 0s 14ms/step - loss: 0.3523 - accuracy: 0.9583 - val_loss: 0.3440 - val_accuracy: 0.9667\n",
      "Epoch 56/100\n",
      "4/4 [==============================] - 0s 14ms/step - loss: 0.3455 - accuracy: 0.9750 - val_loss: 0.3388 - val_accuracy: 0.9667\n",
      "Epoch 57/100\n",
      "4/4 [==============================] - 0s 15ms/step - loss: 0.3390 - accuracy: 0.9750 - val_loss: 0.3324 - val_accuracy: 0.9667\n",
      "Epoch 58/100\n",
      "4/4 [==============================] - 0s 15ms/step - loss: 0.3345 - accuracy: 0.9750 - val_loss: 0.3283 - val_accuracy: 0.9667\n"
     ]
    },
    {
     "name": "stdout",
     "output_type": "stream",
     "text": [
      "Epoch 59/100\n",
      "4/4 [==============================] - 0s 14ms/step - loss: 0.3264 - accuracy: 0.9750 - val_loss: 0.3201 - val_accuracy: 0.9667\n",
      "Epoch 60/100\n",
      "4/4 [==============================] - 0s 14ms/step - loss: 0.3193 - accuracy: 0.9750 - val_loss: 0.3143 - val_accuracy: 0.9667\n",
      "Epoch 61/100\n",
      "4/4 [==============================] - 0s 14ms/step - loss: 0.3152 - accuracy: 0.9750 - val_loss: 0.3081 - val_accuracy: 0.9667\n",
      "Epoch 62/100\n",
      "4/4 [==============================] - 0s 14ms/step - loss: 0.3073 - accuracy: 0.9750 - val_loss: 0.3041 - val_accuracy: 0.9667\n",
      "Epoch 63/100\n",
      "4/4 [==============================] - 0s 14ms/step - loss: 0.3013 - accuracy: 0.9750 - val_loss: 0.2993 - val_accuracy: 0.9667\n",
      "Epoch 64/100\n",
      "4/4 [==============================] - 0s 14ms/step - loss: 0.2943 - accuracy: 0.9750 - val_loss: 0.2915 - val_accuracy: 0.9667\n",
      "Epoch 65/100\n",
      "4/4 [==============================] - 0s 15ms/step - loss: 0.2884 - accuracy: 0.9750 - val_loss: 0.2859 - val_accuracy: 0.9667\n",
      "Epoch 66/100\n",
      "4/4 [==============================] - 0s 15ms/step - loss: 0.2847 - accuracy: 0.9750 - val_loss: 0.2808 - val_accuracy: 0.9667\n",
      "Epoch 67/100\n",
      "4/4 [==============================] - 0s 14ms/step - loss: 0.2762 - accuracy: 0.9750 - val_loss: 0.2749 - val_accuracy: 0.9667\n",
      "Epoch 68/100\n",
      "4/4 [==============================] - 0s 14ms/step - loss: 0.2738 - accuracy: 0.9750 - val_loss: 0.2697 - val_accuracy: 0.9667\n",
      "Epoch 69/100\n",
      "4/4 [==============================] - 0s 14ms/step - loss: 0.2661 - accuracy: 0.9667 - val_loss: 0.2649 - val_accuracy: 0.9667\n",
      "Epoch 70/100\n",
      "4/4 [==============================] - 0s 14ms/step - loss: 0.2607 - accuracy: 0.9833 - val_loss: 0.2624 - val_accuracy: 1.0000\n",
      "Epoch 71/100\n",
      "4/4 [==============================] - 0s 14ms/step - loss: 0.2553 - accuracy: 0.9833 - val_loss: 0.2560 - val_accuracy: 0.9667\n",
      "Epoch 72/100\n",
      "4/4 [==============================] - 0s 14ms/step - loss: 0.2493 - accuracy: 0.9750 - val_loss: 0.2503 - val_accuracy: 0.9667\n",
      "Epoch 73/100\n",
      "4/4 [==============================] - 0s 15ms/step - loss: 0.2449 - accuracy: 0.9750 - val_loss: 0.2456 - val_accuracy: 0.9667\n",
      "Epoch 74/100\n",
      "4/4 [==============================] - 0s 15ms/step - loss: 0.2384 - accuracy: 0.9750 - val_loss: 0.2404 - val_accuracy: 0.9667\n",
      "Epoch 75/100\n",
      "4/4 [==============================] - 0s 14ms/step - loss: 0.2350 - accuracy: 0.9750 - val_loss: 0.2359 - val_accuracy: 0.9667\n",
      "Epoch 76/100\n",
      "4/4 [==============================] - 0s 14ms/step - loss: 0.2290 - accuracy: 0.9750 - val_loss: 0.2317 - val_accuracy: 0.9667\n",
      "Epoch 77/100\n",
      "4/4 [==============================] - 0s 14ms/step - loss: 0.2253 - accuracy: 0.9833 - val_loss: 0.2299 - val_accuracy: 1.0000\n",
      "Epoch 78/100\n",
      "4/4 [==============================] - 0s 15ms/step - loss: 0.2205 - accuracy: 0.9833 - val_loss: 0.2247 - val_accuracy: 1.0000\n",
      "Epoch 79/100\n",
      "4/4 [==============================] - 0s 15ms/step - loss: 0.2186 - accuracy: 0.9750 - val_loss: 0.2185 - val_accuracy: 0.9667\n",
      "Epoch 80/100\n",
      "4/4 [==============================] - 0s 15ms/step - loss: 0.2122 - accuracy: 0.9750 - val_loss: 0.2149 - val_accuracy: 0.9667\n",
      "Epoch 81/100\n",
      "4/4 [==============================] - 0s 15ms/step - loss: 0.2058 - accuracy: 0.9750 - val_loss: 0.2121 - val_accuracy: 1.0000\n",
      "Epoch 82/100\n",
      "4/4 [==============================] - 0s 15ms/step - loss: 0.2019 - accuracy: 0.9750 - val_loss: 0.2078 - val_accuracy: 0.9667\n",
      "Epoch 83/100\n",
      "4/4 [==============================] - 0s 15ms/step - loss: 0.1984 - accuracy: 0.9750 - val_loss: 0.2042 - val_accuracy: 1.0000\n",
      "Epoch 84/100\n",
      "4/4 [==============================] - 0s 15ms/step - loss: 0.1952 - accuracy: 0.9750 - val_loss: 0.1990 - val_accuracy: 0.9667\n",
      "Epoch 85/100\n",
      "4/4 [==============================] - 0s 14ms/step - loss: 0.1905 - accuracy: 0.9750 - val_loss: 0.1957 - val_accuracy: 0.9667\n",
      "Epoch 86/100\n",
      "4/4 [==============================] - 0s 15ms/step - loss: 0.1865 - accuracy: 0.9750 - val_loss: 0.1953 - val_accuracy: 1.0000\n",
      "Epoch 87/100\n",
      "4/4 [==============================] - 0s 15ms/step - loss: 0.1837 - accuracy: 0.9750 - val_loss: 0.1902 - val_accuracy: 1.0000\n",
      "Epoch 88/100\n",
      "4/4 [==============================] - 0s 15ms/step - loss: 0.1793 - accuracy: 0.9833 - val_loss: 0.1871 - val_accuracy: 1.0000\n",
      "Epoch 89/100\n",
      "4/4 [==============================] - 0s 14ms/step - loss: 0.1758 - accuracy: 0.9750 - val_loss: 0.1825 - val_accuracy: 0.9667\n",
      "Epoch 90/100\n",
      "4/4 [==============================] - 0s 14ms/step - loss: 0.1727 - accuracy: 0.9750 - val_loss: 0.1799 - val_accuracy: 0.9667\n",
      "Epoch 91/100\n",
      "4/4 [==============================] - 0s 14ms/step - loss: 0.1692 - accuracy: 0.9750 - val_loss: 0.1773 - val_accuracy: 0.9667\n",
      "Epoch 92/100\n",
      "4/4 [==============================] - 0s 14ms/step - loss: 0.1670 - accuracy: 0.9750 - val_loss: 0.1745 - val_accuracy: 0.9667\n",
      "Epoch 93/100\n",
      "4/4 [==============================] - 0s 14ms/step - loss: 0.1632 - accuracy: 0.9750 - val_loss: 0.1716 - val_accuracy: 0.9667\n",
      "Epoch 94/100\n",
      "4/4 [==============================] - 0s 15ms/step - loss: 0.1608 - accuracy: 0.9750 - val_loss: 0.1684 - val_accuracy: 0.9667\n",
      "Epoch 95/100\n",
      "4/4 [==============================] - 0s 15ms/step - loss: 0.1571 - accuracy: 0.9750 - val_loss: 0.1682 - val_accuracy: 1.0000\n",
      "Epoch 96/100\n",
      "4/4 [==============================] - 0s 14ms/step - loss: 0.1551 - accuracy: 0.9833 - val_loss: 0.1655 - val_accuracy: 1.0000\n",
      "Epoch 97/100\n",
      "4/4 [==============================] - 0s 15ms/step - loss: 0.1514 - accuracy: 0.9833 - val_loss: 0.1609 - val_accuracy: 0.9667\n",
      "Epoch 98/100\n",
      "4/4 [==============================] - 0s 15ms/step - loss: 0.1491 - accuracy: 0.9750 - val_loss: 0.1578 - val_accuracy: 0.9667\n",
      "Epoch 99/100\n",
      "4/4 [==============================] - 0s 15ms/step - loss: 0.1474 - accuracy: 0.9750 - val_loss: 0.1554 - val_accuracy: 0.9667\n",
      "Epoch 100/100\n",
      "4/4 [==============================] - 0s 15ms/step - loss: 0.1443 - accuracy: 0.9750 - val_loss: 0.1553 - val_accuracy: 1.0000\n"
     ]
    }
   ],
   "source": [
    "#Fit model\n",
    "history = final_model.fit(X_train, y_train, epochs=100, validation_data=(X_test, y_test))"
   ]
  },
  {
   "cell_type": "code",
   "execution_count": 42,
   "id": "dd70d3dc",
   "metadata": {},
   "outputs": [
    {
     "name": "stdout",
     "output_type": "stream",
     "text": [
      "The best epoch: 70\n"
     ]
    }
   ],
   "source": [
    "#Find the best epoch\n",
    "val_acc_per_epoch = history.history['val_accuracy']\n",
    "best_epoch = val_acc_per_epoch.index(max(val_acc_per_epoch)) + 1\n",
    "print('The best epoch: %d' % (best_epoch,))"
   ]
  },
  {
   "cell_type": "code",
   "execution_count": 43,
   "id": "745a7743",
   "metadata": {},
   "outputs": [
    {
     "name": "stdout",
     "output_type": "stream",
     "text": [
      "4/4 [==============================] - 0s 3ms/step - loss: 0.1428 - accuracy: 0.9833\n",
      "[test loss, test accuracy]: [0.1427837461233139, 0.9833333492279053]\n"
     ]
    }
   ],
   "source": [
    "#Evaluate the model\n",
    "eval_result = final_model.evaluate(X_train, y_train)\n",
    "print(\"[test loss, test accuracy]:\", eval_result)"
   ]
  },
  {
   "cell_type": "markdown",
   "id": "629fed3d",
   "metadata": {},
   "source": [
    "### Plot Accuracy and Loss "
   ]
  },
  {
   "cell_type": "code",
   "execution_count": 44,
   "id": "55467181",
   "metadata": {},
   "outputs": [
    {
     "data": {
      "image/png": "[encoded data removed]",
      "text/plain": [
       "<Figure size 1400x600 with 1 Axes>"
      ]
     },
     "metadata": {},
     "output_type": "display_data"
    },
    {
     "data": {
      "image/png": "[encoded data removed]",
      "text/plain": [
       "<Figure size 1400x600 with 1 Axes>"
      ]
     },
     "metadata": {},
     "output_type": "display_data"
    }
   ],
   "source": [
    "#Plot the accuracy\n",
    "plt.figure(figsize=(14,6))\n",
    "plt.plot(history.history['accuracy'])\n",
    "plt.plot(history.history['val_accuracy'])\n",
    "plt.title('Model Accuracy')\n",
    "plt.xlabel('Epoch')\n",
    "plt.ylabel('Accuracy')\n",
    "plt.legend(['Train', 'Test'], loc='upper left')\n",
    "plt.show()\n",
    "\n",
    "#Plot the loss\n",
    "plt.figure(figsize=(14,6))\n",
    "plt.plot(history.history['loss'])\n",
    "plt.plot(history.history['val_loss'])\n",
    "plt.title('Model Loss')\n",
    "plt.xlabel('Epoch')\n",
    "plt.ylabel('Loss')\n",
    "plt.legend(['Train', 'Test'], loc='upper right')\n",
    "plt.show()"
   ]
  },
  {
   "cell_type": "markdown",
   "id": "12fc4cb8",
   "metadata": {},
   "source": [
    "### Conclusion"
   ]
  },
  {
   "cell_type": "markdown",
   "id": "185641a4",
   "metadata": {},
   "source": [
    "<div style=\"text-align:left\">\n",
    "\n",
    "Initially, the model performed relatively poorly, with only an overall accuracy of about 63.33%.\n",
    "\n",
    "Via tuning of various hyperparameters, it was determined that:\n",
    "\n",
    "- The best optimizer was Adam.\n",
    "- The optimal number of neurons is 32 for both the first and second layers.\n",
    "- The ANN initially suffered from underfitting but improved after tuning the hyperparameters with keras.\n",
    "\n",
    "After tuning and changing the loss function to SparseCategoricalCrossentropy, the test accuracy went from roughly 63.33% to a whopping 98.33%.\n",
    "Though there may also be overfitting at play, looking at the accuracy plot can contribute to this improved accuracy despite the low loss (14.28%).\n",
    "Using an ANN to predict Iris species is a great idea, as ANNs can give very precise results.\n",
    "However, as ANNs can be prone to overfitting, choosing the best hyperparameters helps to greatly mitigate this issue.\n",
    "\n",
    "</div>"
   ]
  },
  {
   "cell_type": "code",
   "execution_count": null,
   "id": "51eac78a",
   "metadata": {},
   "outputs": [],
   "source": []
  }
 ],
 "metadata": {
  "kernelspec": {
   "display_name": "Python 3 (ipykernel)",
   "language": "python",
   "name": "python3"
  },
  "language_info": {
   "codemirror_mode": {
    "name": "ipython",
    "version": 3
   },
   "file_extension": ".py",
   "mimetype": "text/x-python",
   "name": "python",
   "nbconvert_exporter": "python",
   "pygments_lexer": "ipython3",
   "version": "3.11.4"
  }
 },
 "nbformat": 4,
 "nbformat_minor": 5
}
